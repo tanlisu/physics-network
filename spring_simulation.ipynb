{
 "cells": [
  {
   "cell_type": "code",
   "execution_count": 2,
   "metadata": {},
   "outputs": [],
   "source": [
    "import random\n",
    "import numpy as np\n",
    "import matplotlib.pyplot as plt\n",
    "%matplotlib inline\n",
    "\n",
    "from IPython.display import clear_output\n",
    "\n",
    "import torch\n",
    "from torch.utils import data\n",
    "import torch.nn as nn\n",
    "import torch.optim as optim"
   ]
  },
  {
   "cell_type": "markdown",
   "metadata": {},
   "source": [
    "## Spring simulation"
   ]
  },
  {
   "cell_type": "code",
   "execution_count": 3,
   "metadata": {},
   "outputs": [],
   "source": [
    "# object = [mass, x-position, y-position, x-velocity, y-velocity]\n",
    "# k = spring constant\n",
    "# length = resting length of spring\n",
    "# returns the object at next time step\n",
    "def calculate(object_1, object_2, k, length):\n",
    "    m1, x1_0, y1_0, v1_x0, v1_y0 = object_1\n",
    "    m2, x2_0, y2_0, v2_x0, v2_y0 = object_2\n",
    "    \n",
    "    stretch = x2_0 - x1_0 - length\n",
    "    a1 = k * stretch / m1\n",
    "    a2 = - k * stretch / m2\n",
    "    v1_x = v1_x0 + a1 * 1\n",
    "    v2_x = v2_x0 + a2 * 1\n",
    "    x1 = x1_0 + v1_x * 1\n",
    "    x2 = x2_0 + v2_x * 1\n",
    "    \n",
    "    object_1 = np.array([m1, x1, y1_0, v1_x, v1_y0])\n",
    "    object_2 = np.array([m2, x2, y2_0, v2_x, v2_y0])\n",
    "    return object_1, object_2\n",
    "\n",
    "# n_time = number of time steps\n",
    "def generate_data(n_time, object_1, object_2, k, length):\n",
    "    data = np.zeros((n_time+1, 2, 5), dtype=float) # n_time timesteps, 2 objects, 5 features each\n",
    "    data[0] = [object_1, object_2]\n",
    "    for i in range(n_time):\n",
    "        object_1, object_2 = calculate(object_1, object_2, k, length)\n",
    "        data[i+1] = [object_1, object_2]\n",
    "    return data\n",
    "\n",
    "def visualize(data):\n",
    "    for d in data:\n",
    "        object_1 = d[0]\n",
    "        object_2 = d[1]\n",
    "        clear_output(True)\n",
    "        plt.figure()\n",
    "        plt.axis([-10,10,-1,1])\n",
    "        plt.scatter(object_1[1], object_1[2], color=\"red\")\n",
    "        plt.scatter(object_2[1], object_1[2], color=\"blue\")\n",
    "        plt.show()"
   ]
  },
  {
   "cell_type": "code",
   "execution_count": 20,
   "metadata": {},
   "outputs": [
    {
     "data": {
      "image/png": "[encoded data removed]",
      "text/plain": [
       "<Figure size 432x288 with 1 Axes>"
      ]
     },
     "metadata": {
      "needs_background": "light"
     },
     "output_type": "display_data"
    }
   ],
   "source": [
    "# for visualizing a simulation\n",
    "\n",
    "RESTING_LENGTH = 10\n",
    "SPRING_CONSTANT = 0.1\n",
    "\n",
    "# object = [mass, x-position, y-position, x-velocity, y-velocity]\n",
    "obj_1 = np.array([1, -5, 0, 0, 0])\n",
    "obj_2 = np.array([3, 10, 0, 0, 0])\n",
    "\n",
    "dataset = generate_data(30, obj_1, obj_2, SPRING_CONSTANT, RESTING_LENGTH)\n",
    "visualize(dataset)"
   ]
  },
  {
   "cell_type": "markdown",
   "metadata": {},
   "source": [
    "## Generate data and labels\n",
    "\n",
    "each X is [m1, x1, y1, v1_x, v2_y, m2, x2, y2, v2_x, v2_y, k, length] (size 12)\n",
    "\n",
    "each label y is [m1, x1, y1, v1_x, v1_y, m2, x2, y2, v2_x, v2_y] (size 10)"
   ]
  },
  {
   "cell_type": "code",
   "execution_count": 7,
   "metadata": {},
   "outputs": [
    {
     "name": "stdout",
     "output_type": "stream",
     "text": [
      "tensor([ 1.0000, -7.9338,  0.0000, -0.8613,  0.0000,  4.0000,  2.7334,  0.0000,\n",
      "         0.2153,  0.0000])\n",
      "tensor([ 1.0000, -7.9338,  0.0000, -0.8613,  0.0000,  4.0000,  2.7334,  0.0000,\n",
      "         0.2153,  0.0000,  0.1000, 10.0000])\n"
     ]
    }
   ],
   "source": [
    "n_sim = 10\n",
    "n_time = 20\n",
    "\n",
    "k = 0.1\n",
    "length = 10\n",
    "\n",
    "labels = {}\n",
    "ID = 0\n",
    "for i in range(n_sim):\n",
    "    m1 = random.randint(1,5); m2 = random.randint(1,5)\n",
    "    x1 = -5; x2 = random.randint(0,10)\n",
    "    v1_x = 0; v2_x = 0\n",
    "    \n",
    "    for j in range(n_time):\n",
    "        X = torch.tensor([m1, x1, 0, v1_x, 0, m2, x2, 0, v2_x, 0, k, length]) # size 12\n",
    "        torch.save(X, 'data/' + str(ID) + '.pt')\n",
    "        o1, o2 = calculate(o1, o2, k, length)\n",
    "        m1, x1, y1, v1_x, v1_y = o1\n",
    "        m2, x2, y2, v2_x, v2_y = o2\n",
    "        labels[ID] = torch.tensor([m1, x1, y1, v1_x, v1_y, m2, x2, y2, v2_x, v2_y]) # size 10\n",
    "        ID = ID + 1\n",
    "n_data = ID\n",
    "\n",
    "print(labels[198])\n",
    "print(torch.load('data/199.pt'))"
   ]
  },
  {
   "cell_type": "markdown",
   "metadata": {},
   "source": [
    "## Dataset class\n",
    "\n",
    "from https://stanford.edu/~shervine/blog/pytorch-how-to-generate-data-parallel"
   ]
  },
  {
   "cell_type": "code",
   "execution_count": 8,
   "metadata": {},
   "outputs": [],
   "source": [
    "class Dataset(data.Dataset):\n",
    "  'Characterizes a dataset for PyTorch'\n",
    "  def __init__(self, list_IDs, labels):\n",
    "        'Initialization'\n",
    "        self.labels = labels\n",
    "        self.list_IDs = list_IDs\n",
    "\n",
    "  def __len__(self):\n",
    "        'Denotes the total number of samples'\n",
    "        return len(self.list_IDs)\n",
    "\n",
    "  def __getitem__(self, index):\n",
    "        'Generates one sample of data'\n",
    "        # Select sample\n",
    "        ID = self.list_IDs[index]\n",
    "\n",
    "        # Load data and get label\n",
    "        X = torch.load('data/' + str(ID) + '.pt')\n",
    "        y = self.labels[ID]\n",
    "\n",
    "        return X, y"
   ]
  },
  {
   "cell_type": "markdown",
   "metadata": {},
   "source": [
    "## Neural Network"
   ]
  },
  {
   "cell_type": "code",
   "execution_count": 9,
   "metadata": {},
   "outputs": [],
   "source": [
    "# takes information about object 1, object 2, spring constant, and resting length\n",
    "# returns the next states of object 1 and object 2\n",
    "class Model(nn.Module):\n",
    "    def __init__(self, input_size, hidden_size):\n",
    "        super(Model, self).__init__()\n",
    "        \n",
    "        self.input_size = input_size\n",
    "        \n",
    "        self.layers = nn.Sequential(\n",
    "            nn.Linear(input_size, hidden_size),\n",
    "            nn.ReLU(),\n",
    "            nn.Linear(hidden_size, 10), # m1, x1, y1, v1_x, v1_y, m2, x2, y2, v2_x, v2_y\n",
    "        )\n",
    "        \n",
    "    def forward(self, x):\n",
    "        '''\n",
    "        Args:\n",
    "            x: [batch_size, input_size (12)]\n",
    "        Returns:\n",
    "            [batch_size, 10] (m1, x1, y1, v1_x, v1_y, m2, x2, y2, v2_x, v2_y)\n",
    "        '''\n",
    "        x = x.view(-1, self.input_size)\n",
    "        return self.layers(x)"
   ]
  },
  {
   "cell_type": "markdown",
   "metadata": {},
   "source": [
    "## Training"
   ]
  },
  {
   "cell_type": "code",
   "execution_count": 19,
   "metadata": {},
   "outputs": [
    {
     "data": {
      "image/png": "[encoded data removed]",
      "text/plain": [
       "<Figure size 1440x360 with 1 Axes>"
      ]
     },
     "metadata": {
      "needs_background": "light"
     },
     "output_type": "display_data"
    }
   ],
   "source": [
    "model = Model(12, 100)\n",
    "optimizer = optim.Adam(model.parameters())\n",
    "criterion = nn.MSELoss()\n",
    "\n",
    "# CUDA for PyTorch\n",
    "use_cuda = torch.cuda.is_available()\n",
    "device = torch.device(\"cuda:0\" if use_cuda else \"cpu\")\n",
    "#cudnn.benchmark = True\n",
    "\n",
    "# Parameters\n",
    "params = {'batch_size': 64,\n",
    "          'shuffle': True,\n",
    "          'num_workers': 6}\n",
    "max_epochs = 100\n",
    "\n",
    "# Datasets: partition, labels\n",
    "partition = {'train': range(n_data),\n",
    "            'validation': range(n_data)} # IDs\n",
    "# Labels: dictionary of IDs with corresponding labels\n",
    "\n",
    "# Generators\n",
    "training_set = Dataset(partition['train'], labels)\n",
    "training_generator = data.DataLoader(training_set, **params)\n",
    "\n",
    "validation_set = Dataset(partition['validation'], labels)\n",
    "validation_generator = data.DataLoader(validation_set, **params)\n",
    "\n",
    "losses = []\n",
    "# Loop over epochs\n",
    "for epoch in range(max_epochs):\n",
    "    # Training\n",
    "    for local_batch, local_labels in training_generator:\n",
    "        # Transfer to GPU\n",
    "        local_batch, local_labels = local_batch.to(device), local_labels.to(device)\n",
    "\n",
    "        # Model computations\n",
    "        predicted = model(local_batch)\n",
    "        loss = criterion(predicted, local_labels)\n",
    "        optimizer.zero_grad()\n",
    "        loss.backward()\n",
    "        optimizer.step()\n",
    "        losses.append(np.sqrt(loss.data))\n",
    "        \n",
    "    clear_output(True)\n",
    "    plt.figure(figsize=(20,5))\n",
    "    plt.subplot(131)\n",
    "    plt.title('Epoch %s RMS Error %s' % (epoch, np.sqrt(np.mean(losses[-100:]))))\n",
    "    plt.plot(losses)\n",
    "    plt.show()\n",
    "\n",
    "#     # Validation\n",
    "#     with torch.set_grad_enabled(False):\n",
    "#         for local_batch, local_labels in validation_generator:\n",
    "#             # Transfer to GPU\n",
    "#             local_batch, local_labels = local_batch.to(device), local_labels.to(device)\n",
    "\n",
    "#             # Model computations\n",
    "#             [...]"
   ]
  },
  {
   "cell_type": "code",
   "execution_count": null,
   "metadata": {},
   "outputs": [],
   "source": []
  },
  {
   "cell_type": "code",
   "execution_count": null,
   "metadata": {},
   "outputs": [],
   "source": []
  }
 ],
 "metadata": {
  "kernelspec": {
   "display_name": "Python 3",
   "language": "python",
   "name": "python3"
  },
  "language_info": {
   "codemirror_mode": {
    "name": "ipython",
    "version": 3
   },
   "file_extension": ".py",
   "mimetype": "text/x-python",
   "name": "python",
   "nbconvert_exporter": "python",
   "pygments_lexer": "ipython3",
   "version": "3.7.6"
  }
 },
 "nbformat": 4,
 "nbformat_minor": 4
}
