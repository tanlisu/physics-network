{
 "cells": [
  {
   "cell_type": "code",
   "execution_count": 2,
   "metadata": {},
   "outputs": [],
   "source": [
    "import random\n",
    "import numpy as np\n",
    "import matplotlib.pyplot as plt\n",
    "%matplotlib inline\n",
    "\n",
    "from IPython.display import clear_output\n",
    "\n",
    "import torch\n",
    "from torch.utils import data\n",
    "import torch.nn as nn\n",
    "import torch.optim as optim"
   ]
  },
  {
   "cell_type": "markdown",
   "metadata": {},
   "source": [
    "## Spring simulation\n",
    "\n",
    "https://gitlab.com/boolzhu/dartmouth-phys-comp-starter/-/blob/master/doc/course_notes_1_mass_spring.pdf"
   ]
  },
  {
   "cell_type": "code",
   "execution_count": 4,
   "metadata": {},
   "outputs": [],
   "source": [
    "# object = [mass, x-position, y-position, x-velocity, y-velocity]\n",
    "# k = spring constant\n",
    "# length = resting length of spring\n",
    "\n",
    "# calculate spring force between 2 objects\n",
    "def spring_force(object_1, object_2, k, length):\n",
    "    k_d = 1*k # damping coefficient\n",
    "    x1_0 = np.array(object_1[1:3]); x2_0 = np.array(object_2[1:3])\n",
    "    v1_0 = np.array(object_1[3:5]); v2_0 = np.array(object_2[3:5])\n",
    "\n",
    "    n = (x2_0 - x1_0) / np.linalg.norm(x2_0 - x1_0)\n",
    "    stretch = (np.linalg.norm(x2_0 - x1_0) - length) * n\n",
    "    F1 = k*stretch + k_d*np.dot((v2_0-v1_0), n)*n # spring force + damping force\n",
    "    F2 = -F1\n",
    "    return F1, F2         \n",
    "\n",
    "# assume there is an identical spring between each pair of objects\n",
    "# calculate the next states of all the objects\n",
    "def calculate(objects, k, length):\n",
    "    n_objects = objects.shape[0]\n",
    "    F = np.zeros((n_objects,2))\n",
    "    for i in range(n_objects):\n",
    "        for j in range(i+1, n_objects):\n",
    "            F1, F2 = spring_force(objects[i], objects[j], k, length)\n",
    "            F[i] = F[i] + F1\n",
    "            F[j] = F[j] + F2\n",
    "    \n",
    "    m = objects[:,0:1]\n",
    "    x_0 = objects[:,1:3]\n",
    "    v_0 = objects[:,3:5]\n",
    "    \n",
    "    t = 1\n",
    "    x = x_0 + t*v_0\n",
    "    v = v_0 + t*F/m\n",
    "    new_objects = np.append(m, x, axis=1)\n",
    "    new_objects = np.append(new_objects, v, axis=1)\n",
    "    \n",
    "    return new_objects\n",
    "\n",
    "\n",
    "# n_time = number of time steps\n",
    "def generate_data(n_time, objects, k, length):\n",
    "    n_objects = objects.shape[0]\n",
    "    data = np.zeros((n_time+1, n_objects, 5), dtype=float) # n_time timesteps, n_objects, 5 features each\n",
    "    data[0] = objects\n",
    "    for i in range(n_time):\n",
    "        objects = calculate(objects, k, length)\n",
    "        data[i+1] = objects\n",
    "    return data\n",
    "\n",
    "def visualize(data):\n",
    "    for d in data:\n",
    "        clear_output(True)\n",
    "        plt.figure()\n",
    "        plt.axis([-5,15,-5,15])\n",
    "        for obj in d:\n",
    "            plt.scatter(obj[1], obj[2], s=20*obj[0])\n",
    "        plt.show()"
   ]
  },
  {
   "cell_type": "code",
   "execution_count": 6,
   "metadata": {},
   "outputs": [
    {
     "data": {
      "image/png": "[encoded data removed]",
      "text/plain": [
       "<Figure size 432x288 with 1 Axes>"
      ]
     },
     "metadata": {
      "needs_background": "light"
     },
     "output_type": "display_data"
    }
   ],
   "source": [
    "# for visualizing a simulation\n",
    "\n",
    "RESTING_LENGTH = 10\n",
    "SPRING_CONSTANT = 0.1\n",
    "\n",
    "n_objects = 10\n",
    "objects = np.zeros((n_objects,5))\n",
    "for i in range(n_objects):\n",
    "    # object = [mass, x-position, y-position, x-velocity, y-velocity]\n",
    "    objects[i] = np.array([2, 10*random.random(), 10*random.random(), 0, 0])\n",
    "\n",
    "dataset = generate_data(50, objects, SPRING_CONSTANT, RESTING_LENGTH)\n",
    "visualize(dataset)"
   ]
  },
  {
   "cell_type": "markdown",
   "metadata": {},
   "source": [
    "## Generate data and labels\n",
    "\n",
    "each X has dimension (n_objects, 5)\n",
    "\n",
    "each label y has dimension (n_objects, 5)\n",
    "\n",
    "each object is [m, x, y, v_x, v_y]"
   ]
  },
  {
   "cell_type": "code",
   "execution_count": 24,
   "metadata": {},
   "outputs": [
    {
     "name": "stdout",
     "output_type": "stream",
     "text": [
      "tensor([[ 2.0000,  9.9681,  2.4668, -0.0857,  0.0497],\n",
      "        [ 2.0000,  3.3319,  6.3163,  0.0857, -0.0497]], dtype=torch.float64)\n",
      "tensor([[ 2.0000,  9.9681,  2.4668, -0.0857,  0.0497],\n",
      "        [ 2.0000,  3.3319,  6.3163,  0.0857, -0.0497]], dtype=torch.float64)\n"
     ]
    }
   ],
   "source": [
    "n_training_sim = 15\n",
    "n_test_sim = 5\n",
    "n_time = 20\n",
    "n_objects = 2\n",
    "\n",
    "k = 0.1\n",
    "length = 10\n",
    "\n",
    "labels = {}\n",
    "ID = 0\n",
    "for i in range(n_training_sim + n_test_sim):\n",
    "    objects = np.zeros((n_objects,5))\n",
    "    for j in range(n_objects):\n",
    "        # object = [mass, x-position, y-position, x-velocity, y-velocity]\n",
    "        objects[j] = np.array([2, 10*random.random(), 10*random.random(), 0, 0])\n",
    "    \n",
    "    for j in range(n_time):\n",
    "        X = torch.from_numpy(objects) # dimensions (n_objects, 5)\n",
    "        torch.save(X, 'data/' + str(ID) + '.pt')\n",
    "        objects = calculate(objects, k, length)\n",
    "        labels[ID] = torch.from_numpy(objects) # dimensions (n_objects, 5)\n",
    "        ID = ID + 1\n",
    "    \n",
    "    if i == n_training_sim - 1:\n",
    "        last_training_ID = ID\n",
    "\n",
    "last_test_ID = ID\n",
    "\n",
    "print(labels[198])\n",
    "print(torch.load('data/199.pt'))"
   ]
  },
  {
   "cell_type": "markdown",
   "metadata": {},
   "source": [
    "## Dataset class\n",
    "\n",
    "from https://stanford.edu/~shervine/blog/pytorch-how-to-generate-data-parallel"
   ]
  },
  {
   "cell_type": "code",
   "execution_count": 8,
   "metadata": {},
   "outputs": [],
   "source": [
    "class Dataset(data.Dataset):\n",
    "  'Characterizes a dataset for PyTorch'\n",
    "  def __init__(self, list_IDs, labels):\n",
    "        'Initialization'\n",
    "        self.labels = labels\n",
    "        self.list_IDs = list_IDs\n",
    "\n",
    "  def __len__(self):\n",
    "        'Denotes the total number of samples'\n",
    "        return len(self.list_IDs)\n",
    "\n",
    "  def __getitem__(self, index):\n",
    "        'Generates one sample of data'\n",
    "        # Select sample\n",
    "        ID = self.list_IDs[index]\n",
    "\n",
    "        # Load data and get label\n",
    "        X = torch.flatten(torch.load('data/' + str(ID) + '.pt'))\n",
    "        y = torch.flatten(self.labels[ID])\n",
    "\n",
    "        return X, y"
   ]
  },
  {
   "cell_type": "markdown",
   "metadata": {},
   "source": [
    "## Neural Network"
   ]
  },
  {
   "cell_type": "code",
   "execution_count": 25,
   "metadata": {},
   "outputs": [],
   "source": [
    "# takes information about objects\n",
    "# returns the next states of the objects\n",
    "class Model(nn.Module):\n",
    "    def __init__(self, input_size, output_size, hidden_size):\n",
    "        super(Model, self).__init__()\n",
    "        \n",
    "        self.input_size = input_size\n",
    "        \n",
    "        self.layers = nn.Sequential(\n",
    "            nn.Linear(input_size, hidden_size),\n",
    "            nn.ReLU(),\n",
    "            nn.Linear(hidden_size, output_size), # n_objects*5\n",
    "        )\n",
    "        \n",
    "    def forward(self, x):\n",
    "        '''\n",
    "        Args:\n",
    "            x: [batch_size, input_size (n_objects*5)]\n",
    "        Returns:\n",
    "            [batch_size, output_size (n_objects*5)]\n",
    "        '''\n",
    "        x = x.view(-1, self.input_size)\n",
    "        return self.layers(x)"
   ]
  },
  {
   "cell_type": "markdown",
   "metadata": {},
   "source": [
    "## Training"
   ]
  },
  {
   "cell_type": "code",
   "execution_count": 26,
   "metadata": {},
   "outputs": [
    {
     "data": {
      "image/png": "[encoded data removed]",
      "text/plain": [
       "<Figure size 1440x360 with 1 Axes>"
      ]
     },
     "metadata": {
      "needs_background": "light"
     },
     "output_type": "display_data"
    }
   ],
   "source": [
    "model = Model(n_objects*5, n_objects*5, 100)\n",
    "optimizer = optim.Adam(model.parameters())\n",
    "criterion = nn.MSELoss()\n",
    "\n",
    "# CUDA for PyTorch\n",
    "use_cuda = torch.cuda.is_available()\n",
    "device = torch.device(\"cuda:0\" if use_cuda else \"cpu\")\n",
    "#cudnn.benchmark = True\n",
    "\n",
    "# Parameters\n",
    "params = {'batch_size': 30,\n",
    "          'shuffle': True,\n",
    "          'num_workers': 0 } # 6\n",
    "max_epochs = 200\n",
    "\n",
    "# Datasets: partition, labels\n",
    "partition = {'train': range(last_training_ID),\n",
    "            'validation': range(last_training_ID, last_test_ID)} # IDs\n",
    "# Labels: dictionary of IDs with corresponding labels\n",
    "\n",
    "# Generators\n",
    "training_set = Dataset(partition['train'], labels)\n",
    "training_generator = data.DataLoader(training_set, **params)\n",
    "\n",
    "validation_set = Dataset(partition['validation'], labels)\n",
    "validation_generator = data.DataLoader(validation_set, **params)\n",
    "\n",
    "\n",
    "training_losses = []\n",
    "# Loop over epochs\n",
    "for epoch in range(max_epochs):\n",
    "    # Training\n",
    "    num_batches = 0\n",
    "    for local_batch, local_labels in training_generator:\n",
    "        num_batches = num_batches + 1\n",
    "        # Transfer to GPU\n",
    "        local_batch, local_labels = local_batch.to(device), local_labels.to(device)\n",
    "\n",
    "        # Model computations\n",
    "        predicted = model(local_batch.float())\n",
    "        loss = criterion(predicted.double(), local_labels.double())\n",
    "        optimizer.zero_grad()\n",
    "        loss.backward()\n",
    "        optimizer.step()\n",
    "        training_losses.append(np.sqrt(loss.data))\n",
    "        \n",
    "    clear_output(True)\n",
    "    plt.figure(figsize=(20,5))\n",
    "    plt.subplot(131)\n",
    "    plt.title('Epoch %s RMS Error %s' % (epoch, np.sqrt(np.mean(training_losses[-num_batches:]))))\n",
    "    plt.plot(training_losses)\n",
    "    plt.show()"
   ]
  },
  {
   "cell_type": "markdown",
   "metadata": {},
   "source": [
    "## Validation"
   ]
  },
  {
   "cell_type": "code",
   "execution_count": 27,
   "metadata": {},
   "outputs": [
    {
     "data": {
      "image/png": "[encoded data removed]",
      "text/plain": [
       "<Figure size 1440x360 with 1 Axes>"
      ]
     },
     "metadata": {
      "needs_background": "light"
     },
     "output_type": "display_data"
    }
   ],
   "source": [
    "# Validation\n",
    "max_epochs = 20\n",
    "validation_losses = []\n",
    "with torch.set_grad_enabled(False):\n",
    "    for epoch in range(max_epochs):\n",
    "        num_batches = 0\n",
    "        for local_batch, local_labels in validation_generator:\n",
    "            num_batches = num_batches + 1\n",
    "            # Transfer to GPU\n",
    "            local_batch, local_labels = local_batch.to(device), local_labels.to(device)\n",
    "\n",
    "            # Model computations\n",
    "            predicted = model(local_batch.float())\n",
    "            loss = criterion(predicted.double(), local_labels.double())\n",
    "            validation_losses.append(np.sqrt(loss.data))\n",
    "        \n",
    "        clear_output(True)\n",
    "        plt.figure(figsize=(20,5))\n",
    "        plt.subplot(131)\n",
    "        plt.title('Validation Epoch %s RMS Error %s' % (epoch, np.sqrt(np.mean(validation_losses[--num_batches:]))))\n",
    "        plt.plot(validation_losses)\n",
    "        plt.show()"
   ]
  },
  {
   "cell_type": "code",
   "execution_count": 28,
   "metadata": {},
   "outputs": [],
   "source": [
    "n_time = 50\n",
    "    \n",
    "RESTING_LENGTH = 10\n",
    "SPRING_CONSTANT = 0.1\n",
    "\n",
    "# object = [mass, x-position, y-position, x-velocity, y-velocity]\n",
    "objects = np.zeros((n_objects,5))\n",
    "for i in range(n_objects):\n",
    "    # object = [mass, x-position, y-position, x-velocity, y-velocity]\n",
    "    objects[i] = np.array([2, 10*random.random(), 10*random.random(), 0, 0])\n",
    "\n",
    "# ground truth\n",
    "ground_truth = generate_data(n_time, objects, SPRING_CONSTANT, RESTING_LENGTH)\n",
    "\n",
    "# predicted\n",
    "pred_data = np.array([objects]).reshape(1,n_objects*5)\n",
    "with torch.set_grad_enabled(False):\n",
    "    for i in range(n_time):\n",
    "        prev_state = torch.tensor([pred_data[i]])\n",
    "        next_state = model(prev_state.float())\n",
    "        pred_data = np.append(pred_data, next_state, axis=0)\n",
    "pred_data = pred_data.reshape((n_time+1,n_objects,5))"
   ]
  },
  {
   "cell_type": "code",
   "execution_count": 29,
   "metadata": {},
   "outputs": [
    {
     "data": {
      "image/png": "[encoded data removed]",
      "text/plain": [
       "<Figure size 432x288 with 1 Axes>"
      ]
     },
     "metadata": {
      "needs_background": "light"
     },
     "output_type": "display_data"
    }
   ],
   "source": [
    "visualize(ground_truth)"
   ]
  },
  {
   "cell_type": "code",
   "execution_count": 30,
   "metadata": {},
   "outputs": [
    {
     "data": {
      "image/png": "[encoded data removed]",
      "text/plain": [
       "<Figure size 432x288 with 1 Axes>"
      ]
     },
     "metadata": {
      "needs_background": "light"
     },
     "output_type": "display_data"
    }
   ],
   "source": [
    "visualize(pred_data)"
   ]
  },
  {
   "cell_type": "code",
   "execution_count": null,
   "metadata": {},
   "outputs": [],
   "source": []
  }
 ],
 "metadata": {
  "kernelspec": {
   "display_name": "Python 3",
   "language": "python",
   "name": "python3"
  },
  "language_info": {
   "codemirror_mode": {
    "name": "ipython",
    "version": 3
   },
   "file_extension": ".py",
   "mimetype": "text/x-python",
   "name": "python",
   "nbconvert_exporter": "python",
   "pygments_lexer": "ipython3",
   "version": "3.7.6"
  }
 },
 "nbformat": 4,
 "nbformat_minor": 4
}
